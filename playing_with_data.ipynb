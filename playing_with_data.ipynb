{
 "cells": [
  {
   "cell_type": "code",
   "execution_count": 1,
   "metadata": {},
   "outputs": [],
   "source": [
    "import numpy as np\n",
    "import pandas as pd\n",
    "from matplotlib import pyplot as plt"
   ]
  },
  {
   "cell_type": "markdown",
   "metadata": {},
   "source": [
    "## dontpatronizeme_pcl"
   ]
  },
  {
   "cell_type": "code",
   "execution_count": 2,
   "metadata": {},
   "outputs": [
    {
     "data": {
      "text/html": [
       "<div>\n",
       "<style scoped>\n",
       "    .dataframe tbody tr th:only-of-type {\n",
       "        vertical-align: middle;\n",
       "    }\n",
       "\n",
       "    .dataframe tbody tr th {\n",
       "        vertical-align: top;\n",
       "    }\n",
       "\n",
       "    .dataframe thead th {\n",
       "        text-align: right;\n",
       "    }\n",
       "</style>\n",
       "<table border=\"1\" class=\"dataframe\">\n",
       "  <thead>\n",
       "    <tr style=\"text-align: right;\">\n",
       "      <th></th>\n",
       "      <th>par_id</th>\n",
       "      <th>art_id</th>\n",
       "      <th>keyword</th>\n",
       "      <th>country_code</th>\n",
       "      <th>text</th>\n",
       "      <th>label</th>\n",
       "    </tr>\n",
       "  </thead>\n",
       "  <tbody>\n",
       "    <tr>\n",
       "      <th>0</th>\n",
       "      <td>1</td>\n",
       "      <td>@@24942188</td>\n",
       "      <td>hopeless</td>\n",
       "      <td>ph</td>\n",
       "      <td>We 're living in times of absolute insanity , ...</td>\n",
       "      <td>0</td>\n",
       "    </tr>\n",
       "    <tr>\n",
       "      <th>1</th>\n",
       "      <td>2</td>\n",
       "      <td>@@21968160</td>\n",
       "      <td>migrant</td>\n",
       "      <td>gh</td>\n",
       "      <td>In Libya today , there are countless number of...</td>\n",
       "      <td>0</td>\n",
       "    </tr>\n",
       "    <tr>\n",
       "      <th>2</th>\n",
       "      <td>3</td>\n",
       "      <td>@@16584954</td>\n",
       "      <td>immigrant</td>\n",
       "      <td>ie</td>\n",
       "      <td>White House press secretary Sean Spicer said t...</td>\n",
       "      <td>0</td>\n",
       "    </tr>\n",
       "    <tr>\n",
       "      <th>3</th>\n",
       "      <td>4</td>\n",
       "      <td>@@7811231</td>\n",
       "      <td>disabled</td>\n",
       "      <td>nz</td>\n",
       "      <td>Council customers only signs would be displaye...</td>\n",
       "      <td>0</td>\n",
       "    </tr>\n",
       "    <tr>\n",
       "      <th>4</th>\n",
       "      <td>5</td>\n",
       "      <td>@@1494111</td>\n",
       "      <td>refugee</td>\n",
       "      <td>ca</td>\n",
       "      <td>\" Just like we received migrants fleeing El Sa...</td>\n",
       "      <td>0</td>\n",
       "    </tr>\n",
       "  </tbody>\n",
       "</table>\n",
       "</div>"
      ],
      "text/plain": [
       "   par_id      art_id    keyword country_code  \\\n",
       "0       1  @@24942188   hopeless           ph   \n",
       "1       2  @@21968160    migrant           gh   \n",
       "2       3  @@16584954  immigrant           ie   \n",
       "3       4   @@7811231   disabled           nz   \n",
       "4       5   @@1494111    refugee           ca   \n",
       "\n",
       "                                                text  label  \n",
       "0  We 're living in times of absolute insanity , ...      0  \n",
       "1  In Libya today , there are countless number of...      0  \n",
       "2  White House press secretary Sean Spicer said t...      0  \n",
       "3  Council customers only signs would be displaye...      0  \n",
       "4  \" Just like we received migrants fleeing El Sa...      0  "
      ]
     },
     "execution_count": 2,
     "metadata": {},
     "output_type": "execute_result"
    }
   ],
   "source": [
    "data_pcl = pd.read_csv(\"./dontpatronizeme_v1.4/dontpatronizeme_pcl.tsv\", sep=\"\\t\", names=['par_id','art_id','keyword','country_code','text','label'], skiprows=3)\n",
    "data_pcl.head()"
   ]
  },
  {
   "cell_type": "code",
   "execution_count": 3,
   "metadata": {},
   "outputs": [
    {
     "data": {
      "text/plain": [
       "0        We 're living in times of absolute insanity , ...\n",
       "1        In Libya today , there are countless number of...\n",
       "2        White House press secretary Sean Spicer said t...\n",
       "3        Council customers only signs would be displaye...\n",
       "4        \" Just like we received migrants fleeing El Sa...\n",
       "                               ...                        \n",
       "10464    Sri Lankan norms and culture inhibit women fro...\n",
       "10465    He added that the AFP will continue to bank on...\n",
       "10466    \" She has one huge platform , and information ...\n",
       "10467    \" Anja Ringgren Loven I ca n't find a word to ...\n",
       "10468    \" Guinness World Record of 540lbs of 7-layer m...\n",
       "Name: text, Length: 10469, dtype: object"
      ]
     },
     "execution_count": 3,
     "metadata": {},
     "output_type": "execute_result"
    }
   ],
   "source": [
    "data_pcl['text']"
   ]
  },
  {
   "cell_type": "code",
   "execution_count": 4,
   "metadata": {},
   "outputs": [
    {
     "data": {
      "text/plain": [
       "0        0\n",
       "1        0\n",
       "2        0\n",
       "3        0\n",
       "4        0\n",
       "        ..\n",
       "10464    1\n",
       "10465    0\n",
       "10466    3\n",
       "10467    4\n",
       "10468    3\n",
       "Name: label, Length: 10469, dtype: int64"
      ]
     },
     "execution_count": 4,
     "metadata": {},
     "output_type": "execute_result"
    }
   ],
   "source": [
    "data_pcl['label']"
   ]
  },
  {
   "cell_type": "markdown",
   "metadata": {},
   "source": [
    "Each paragraph has been annotated by two annotators as 0 (No PCL), 1 (borderline PCL) and 2 (contains PCL). The combined annotations have been used in the following graded scale:\n",
    "\n",
    "\t0 -> Annotator 1 = 0 AND Annotator 2 = 0\n",
    "\t1 -> Annotator 1 = 0 AND Annotator 2 = 1 OR Annotator 1 = 1 AND Annotator 2 = 0\n",
    "\t2 -> Annotator 1 = 1 AND Annotator 2 = 1\n",
    "\t3 -> Annotator 1 = 1 AND Annotator 2 = 2 OR Annotator 1 = 2 AND Annotator 2 = 1\n",
    "\t4 -> Annotator 1 = 2 AND Annotator 2 = 2"
   ]
  },
  {
   "cell_type": "code",
   "execution_count": 5,
   "metadata": {},
   "outputs": [
    {
     "data": {
      "text/plain": [
       "((10469,), 0, 4, 0.3986054064380552, 0.9778985231573213)"
      ]
     },
     "execution_count": 5,
     "metadata": {},
     "output_type": "execute_result"
    }
   ],
   "source": [
    "x = data_pcl['text'].to_numpy(dtype=str)\n",
    "y = data_pcl['label'].to_numpy(dtype=np.int)\n",
    "y.shape, y.min(), y.max(), y.mean(), y.var()"
   ]
  },
  {
   "cell_type": "code",
   "execution_count": 6,
   "metadata": {},
   "outputs": [
    {
     "name": "stdout",
     "output_type": "stream",
     "text": [
      "{0: 8529, 1: 947, 2: 144, 3: 458, 4: 391}\n"
     ]
    },
    {
     "data": {
      "image/png": "[encoded data removed]",
      "text/plain": [
       "<Figure size 432x288 with 1 Axes>"
      ]
     },
     "metadata": {
      "needs_background": "light"
     },
     "output_type": "display_data"
    }
   ],
   "source": [
    "n_per_annotation = {}\n",
    "for annotation in y:\n",
    "    n_per_annotation[annotation] = n_per_annotation.get(annotation, 0) + 1\n",
    "print(n_per_annotation)\n",
    "plt.bar(n_per_annotation.keys(), n_per_annotation.values())\n",
    "plt.grid()"
   ]
  },
  {
   "cell_type": "markdown",
   "metadata": {},
   "source": [
    "\tThe experiments reported in the paper consider the following tag grouping: \n",
    "\t- {0,1}   = No PCL\n",
    "\t- {2,3,4} = PCL"
   ]
  },
  {
   "cell_type": "code",
   "execution_count": 7,
   "metadata": {},
   "outputs": [
    {
     "data": {
      "text/plain": [
       "((10469,), 993, 0.09485146623364218)"
      ]
     },
     "execution_count": 7,
     "metadata": {},
     "output_type": "execute_result"
    }
   ],
   "source": [
    "y_binary = np.array((y>1.5), dtype=int)\n",
    "y_binary.shape, y_binary.sum(), y_binary.sum()/len(y_binary)"
   ]
  },
  {
   "cell_type": "code",
   "execution_count": 8,
   "metadata": {},
   "outputs": [
    {
     "name": "stdout",
     "output_type": "stream",
     "text": [
      "{0: 9476, 1: 993}\n"
     ]
    },
    {
     "data": {
      "image/png": "[encoded data removed]",
      "text/plain": [
       "<Figure size 432x288 with 1 Axes>"
      ]
     },
     "metadata": {
      "needs_background": "light"
     },
     "output_type": "display_data"
    }
   ],
   "source": [
    "n_per_binary = {}\n",
    "n_per_binary[0] = len(y_binary) - y_binary.sum()\n",
    "n_per_binary[1] = y_binary.sum()\n",
    "print(n_per_binary)\n",
    "plt.bar([0.5, 3], n_per_binary.values(), width=[1.9, 2.9], label='Binary label')\n",
    "plt.bar(n_per_annotation.keys(), n_per_annotation.values(), label=\"Annotation\")\n",
    "plt.title(\"Number of examples per label\")\n",
    "plt.legend()\n",
    "plt.grid()"
   ]
  },
  {
   "cell_type": "code",
   "execution_count": 9,
   "metadata": {},
   "outputs": [
    {
     "data": {
      "image/png": "[encoded data removed]",
      "text/plain": [
       "<Figure size 432x288 with 1 Axes>"
      ]
     },
     "metadata": {
      "needs_background": "light"
     },
     "output_type": "display_data"
    }
   ],
   "source": [
    "n_words = np.array([len(text.split()) for text in x])\n",
    "plt.hist(n_words)\n",
    "plt.yscale('log')\n",
    "plt.ylabel(\"Nb paragraphs\")\n",
    "plt.xlabel(\"Nb words in paragraph\")\n",
    "plt.grid()"
   ]
  },
  {
   "cell_type": "code",
   "execution_count": 10,
   "metadata": {},
   "outputs": [
    {
     "data": {
      "text/plain": [
       "(1, 909, 48.423)"
      ]
     },
     "execution_count": 10,
     "metadata": {},
     "output_type": "execute_result"
    }
   ],
   "source": [
    "# Mininmum, maximum, and average number of words per example\n",
    "n_words.min(), n_words.max(), n_words.mean().round(3)"
   ]
  },
  {
   "cell_type": "code",
   "execution_count": 11,
   "metadata": {},
   "outputs": [],
   "source": [
    "n_words_per_label = {}\n",
    "n_words_per_label[0] = []\n",
    "n_words_per_label[1] = []\n",
    "for i,label in enumerate(y_binary):\n",
    "    n_words_per_label[label].append(n_words[i])\n",
    "    \n",
    "n_words_per_label[1] = np.array(n_words_per_label[1])\n",
    "n_words_per_label[0] = np.array(n_words_per_label[0])"
   ]
  },
  {
   "cell_type": "code",
   "execution_count": 12,
   "metadata": {},
   "outputs": [
    {
     "data": {
      "text/plain": [
       "(47.877902068383285, 28.62299840411097)"
      ]
     },
     "execution_count": 12,
     "metadata": {},
     "output_type": "execute_result"
    }
   ],
   "source": [
    "# Average number of words and standard deviation for examples WITHOUT PCL\n",
    "n_words_per_label[0].sum() / len(n_words_per_label[0]), n_words_per_label[0].std()"
   ]
  },
  {
   "cell_type": "code",
   "execution_count": 13,
   "metadata": {},
   "outputs": [
    {
     "data": {
      "text/plain": [
       "(53.620342396777446, 32.76348563600537)"
      ]
     },
     "execution_count": 13,
     "metadata": {},
     "output_type": "execute_result"
    }
   ],
   "source": [
    "# Average number of words and standard deviation for examples WITH PCL\n",
    "n_words_per_label[1].sum() / len(n_words_per_label[1]), n_words_per_label[1].std()"
   ]
  },
  {
   "cell_type": "code",
   "execution_count": 14,
   "metadata": {},
   "outputs": [
    {
     "data": {
      "image/png": "[encoded data removed]",
      "text/plain": [
       "<Figure size 432x288 with 1 Axes>"
      ]
     },
     "metadata": {
      "needs_background": "light"
     },
     "output_type": "display_data"
    }
   ],
   "source": [
    "bars = [n_words_per_label[0].sum() / len(n_words_per_label[0]), n_words_per_label[1].sum() / len(n_words_per_label[1])]\n",
    "errors = [n_words_per_label[0].std(), n_words_per_label[1].std()]\n",
    "plt.bar([\"NO PCL\", \"PLC\"],bars, yerr=errors, capsize=10)\n",
    "plt.title(\"Average size of paragraph and standard deviation\")\n",
    "plt.ylabel(\"Number of words\")\n",
    "plt.grid()"
   ]
  },
  {
   "cell_type": "code",
   "execution_count": 15,
   "metadata": {},
   "outputs": [
    {
     "data": {
      "text/plain": [
       "(42.0, 47.0)"
      ]
     },
     "execution_count": 15,
     "metadata": {},
     "output_type": "execute_result"
    }
   ],
   "source": [
    "# Medians\n",
    "np.median(n_words_per_label[0]), np.median(n_words_per_label[1])"
   ]
  },
  {
   "cell_type": "code",
   "execution_count": 16,
   "metadata": {},
   "outputs": [
    {
     "data": {
      "image/png": "[encoded data removed]",
      "text/plain": [
       "<Figure size 432x288 with 1 Axes>"
      ]
     },
     "metadata": {
      "needs_background": "light"
     },
     "output_type": "display_data"
    }
   ],
   "source": [
    "plt.hist(n_words_per_label[0], label=\"NO PCL\")\n",
    "plt.hist(n_words_per_label[1], label=\"PCL\")\n",
    "plt.yscale('log')\n",
    "plt.yscale('log')\n",
    "plt.legend()\n",
    "plt.title(\"Histogram of paragraph sizes in the dataset\")\n",
    "plt.xlabel(\"Number of words per paragraph\")\n",
    "plt.ylabel(\"Number of paragraphs\")\n",
    "plt.grid()"
   ]
  },
  {
   "cell_type": "markdown",
   "metadata": {},
   "source": [
    "## dontpatronizeme_categories"
   ]
  },
  {
   "cell_type": "code",
   "execution_count": 17,
   "metadata": {},
   "outputs": [],
   "source": [
    "names = [\"par_id\", \"art_id\", \"text\", \"keyword\", \"country_code\", \"span_start\", \"span_finish\", \"span_text\", \"pcl_category\", \"number_of_annotators\"]"
   ]
  },
  {
   "cell_type": "code",
   "execution_count": 18,
   "metadata": {},
   "outputs": [
    {
     "data": {
      "text/html": [
       "<div>\n",
       "<style scoped>\n",
       "    .dataframe tbody tr th:only-of-type {\n",
       "        vertical-align: middle;\n",
       "    }\n",
       "\n",
       "    .dataframe tbody tr th {\n",
       "        vertical-align: top;\n",
       "    }\n",
       "\n",
       "    .dataframe thead th {\n",
       "        text-align: right;\n",
       "    }\n",
       "</style>\n",
       "<table border=\"1\" class=\"dataframe\">\n",
       "  <thead>\n",
       "    <tr style=\"text-align: right;\">\n",
       "      <th></th>\n",
       "      <th>par_id</th>\n",
       "      <th>art_id</th>\n",
       "      <th>text</th>\n",
       "      <th>keyword</th>\n",
       "      <th>country_code</th>\n",
       "      <th>span_start</th>\n",
       "      <th>span_finish</th>\n",
       "      <th>span_text</th>\n",
       "      <th>pcl_category</th>\n",
       "      <th>number_of_annotators</th>\n",
       "    </tr>\n",
       "  </thead>\n",
       "  <tbody>\n",
       "    <tr>\n",
       "      <th>0</th>\n",
       "      <td>4046</td>\n",
       "      <td>@@14767805</td>\n",
       "      <td>We also know that they can benefit by receivin...</td>\n",
       "      <td>hopeless</td>\n",
       "      <td>us</td>\n",
       "      <td>201</td>\n",
       "      <td>236</td>\n",
       "      <td>put their situation in perspective</td>\n",
       "      <td>Authority_voice</td>\n",
       "      <td>2</td>\n",
       "    </tr>\n",
       "    <tr>\n",
       "      <th>1</th>\n",
       "      <td>4046</td>\n",
       "      <td>@@14767805</td>\n",
       "      <td>We also know that they can benefit by receivin...</td>\n",
       "      <td>hopeless</td>\n",
       "      <td>us</td>\n",
       "      <td>240</td>\n",
       "      <td>274</td>\n",
       "      <td>help them communicate with others</td>\n",
       "      <td>Unbalanced_power_relations</td>\n",
       "      <td>2</td>\n",
       "    </tr>\n",
       "    <tr>\n",
       "      <th>2</th>\n",
       "      <td>4046</td>\n",
       "      <td>@@14767805</td>\n",
       "      <td>We also know that they can benefit by receivin...</td>\n",
       "      <td>hopeless</td>\n",
       "      <td>us</td>\n",
       "      <td>274</td>\n",
       "      <td>300</td>\n",
       "      <td>who could provide support</td>\n",
       "      <td>Unbalanced_power_relations</td>\n",
       "      <td>1</td>\n",
       "    </tr>\n",
       "    <tr>\n",
       "      <th>3</th>\n",
       "      <td>4046</td>\n",
       "      <td>@@14767805</td>\n",
       "      <td>We also know that they can benefit by receivin...</td>\n",
       "      <td>hopeless</td>\n",
       "      <td>us</td>\n",
       "      <td>384</td>\n",
       "      <td>434</td>\n",
       "      <td>plan for their needs and the needs of their child</td>\n",
       "      <td>Authority_voice</td>\n",
       "      <td>2</td>\n",
       "    </tr>\n",
       "    <tr>\n",
       "      <th>4</th>\n",
       "      <td>4046</td>\n",
       "      <td>@@14767805</td>\n",
       "      <td>We also know that they can benefit by receivin...</td>\n",
       "      <td>hopeless</td>\n",
       "      <td>us</td>\n",
       "      <td>0</td>\n",
       "      <td>35</td>\n",
       "      <td>We also know that they can benefit</td>\n",
       "      <td>Unbalanced_power_relations</td>\n",
       "      <td>1</td>\n",
       "    </tr>\n",
       "  </tbody>\n",
       "</table>\n",
       "</div>"
      ],
      "text/plain": [
       "   par_id      art_id                                               text  \\\n",
       "0    4046  @@14767805  We also know that they can benefit by receivin...   \n",
       "1    4046  @@14767805  We also know that they can benefit by receivin...   \n",
       "2    4046  @@14767805  We also know that they can benefit by receivin...   \n",
       "3    4046  @@14767805  We also know that they can benefit by receivin...   \n",
       "4    4046  @@14767805  We also know that they can benefit by receivin...   \n",
       "\n",
       "    keyword country_code  span_start  span_finish  \\\n",
       "0  hopeless           us         201          236   \n",
       "1  hopeless           us         240          274   \n",
       "2  hopeless           us         274          300   \n",
       "3  hopeless           us         384          434   \n",
       "4  hopeless           us           0           35   \n",
       "\n",
       "                                           span_text  \\\n",
       "0                 put their situation in perspective   \n",
       "1                  help them communicate with others   \n",
       "2                          who could provide support   \n",
       "3  plan for their needs and the needs of their child   \n",
       "4                 We also know that they can benefit   \n",
       "\n",
       "                 pcl_category  number_of_annotators  \n",
       "0             Authority_voice                     2  \n",
       "1  Unbalanced_power_relations                     2  \n",
       "2  Unbalanced_power_relations                     1  \n",
       "3             Authority_voice                     2  \n",
       "4  Unbalanced_power_relations                     1  "
      ]
     },
     "execution_count": 18,
     "metadata": {},
     "output_type": "execute_result"
    }
   ],
   "source": [
    "data_categories = pd.read_csv(\"./dontpatronizeme_v1.4/dontpatronizeme_categories.tsv\", sep=\"\\t\", names=names, skiprows=3)\n",
    "data_categories.head()"
   ]
  },
  {
   "cell_type": "code",
   "execution_count": 19,
   "metadata": {},
   "outputs": [
    {
     "data": {
      "text/plain": [
       "{'Authority_voice': 285,\n",
       " 'Unbalanced_power_relations': 968,\n",
       " 'Shallow_solution': 227,\n",
       " 'Presupposition': 296,\n",
       " 'Compassion': 682,\n",
       " 'Metaphors': 250,\n",
       " 'The_poorer_the_merrier': 52}"
      ]
     },
     "execution_count": 19,
     "metadata": {},
     "output_type": "execute_result"
    }
   ],
   "source": [
    "n_example_per_category = {}\n",
    "for cat in data_categories[\"pcl_category\"]:\n",
    "    n_example_per_category[cat] = n_example_per_category.get(cat, 0) + 1\n",
    "n_example_per_category"
   ]
  },
  {
   "cell_type": "code",
   "execution_count": 20,
   "metadata": {},
   "outputs": [
    {
     "data": {
      "image/png": "[encoded data removed]",
      "text/plain": [
       "<Figure size 432x288 with 1 Axes>"
      ]
     },
     "metadata": {
      "needs_background": "light"
     },
     "output_type": "display_data"
    }
   ],
   "source": [
    "plt.bar(n_example_per_category.keys(), n_example_per_category.values())\n",
    "plt.xticks(rotation=90)\n",
    "plt.grid()"
   ]
  },
  {
   "cell_type": "code",
   "execution_count": 21,
   "metadata": {},
   "outputs": [],
   "source": [
    "n_categories_per_example = np.zeros(len(data_pcl), dtype=int)\n",
    "for i in sorted(data_categories['par_id'] - 1):\n",
    "    n_categories_per_example[i] = n_categories_per_example[i] +1"
   ]
  },
  {
   "cell_type": "code",
   "execution_count": 22,
   "metadata": {},
   "outputs": [
    {
     "data": {
      "text/plain": [
       "True"
      ]
     },
     "execution_count": 22,
     "metadata": {},
     "output_type": "execute_result"
    }
   ],
   "source": [
    "(n_categories_per_example!=0).sum() == y_binary.sum()"
   ]
  },
  {
   "cell_type": "code",
   "execution_count": null,
   "metadata": {},
   "outputs": [],
   "source": []
  },
  {
   "cell_type": "code",
   "execution_count": null,
   "metadata": {},
   "outputs": [],
   "source": []
  },
  {
   "cell_type": "code",
   "execution_count": null,
   "metadata": {},
   "outputs": [],
   "source": []
  }
 ],
 "metadata": {
  "kernelspec": {
   "display_name": "Python 3",
   "language": "python",
   "name": "python3"
  },
  "language_info": {
   "codemirror_mode": {
    "name": "ipython",
    "version": 3
   },
   "file_extension": ".py",
   "mimetype": "text/x-python",
   "name": "python",
   "nbconvert_exporter": "python",
   "pygments_lexer": "ipython3",
   "version": "3.8.5"
  }
 },
 "nbformat": 4,
 "nbformat_minor": 4
}
