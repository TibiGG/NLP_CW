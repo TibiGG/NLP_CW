{
 "cells": [
  {
   "cell_type": "markdown",
   "metadata": {},
   "source": [
    "# Example for generating figures of the progress of the learning\n",
    "Figures are at the end. <br>\n",
    "Note that only 10 examples are used for training."
   ]
  },
  {
   "cell_type": "code",
   "execution_count": 1,
   "metadata": {},
   "outputs": [],
   "source": [
    "from simpletransformers.classification import ClassificationModel, ClassificationArgs\n",
    "import pandas as pd\n",
    "import numpy as np\n",
    "from sklearn.metrics import f1_score\n",
    "from matplotlib import pyplot as plt\n",
    "import torch\n",
    "from collections import Counter\n",
    "from tqdm.notebook import tqdm\n",
    "tqdm.pandas()"
   ]
  },
  {
   "cell_type": "code",
   "execution_count": 2,
   "metadata": {},
   "outputs": [
    {
     "name": "stdout",
     "output_type": "stream",
     "text": [
      "cpu\n"
     ]
    }
   ],
   "source": [
    "device = torch.device(\"cuda\" if torch.cuda.is_available() else \"cpu\")\n",
    "print(device)"
   ]
  },
  {
   "cell_type": "code",
   "execution_count": 3,
   "metadata": {},
   "outputs": [],
   "source": [
    "train_ids = pd.read_csv('./datasets/train_semeval_parids-labels.csv')\n",
    "test_ids = pd.read_csv('./datasets/dev_semeval_parids-labels.csv')\n",
    "data_pcl = pd.read_csv(\"./datasets/dontpatronizeme_pcl.tsv\", sep=\"\\t\", skiprows=3,\n",
    "                       names=['par_id','art_id','keyword','country_code','text','label'])"
   ]
  },
  {
   "cell_type": "code",
   "execution_count": 4,
   "metadata": {},
   "outputs": [
    {
     "name": "stdout",
     "output_type": "stream",
     "text": [
      "len(pred_texts) = 10469\n"
     ]
    }
   ],
   "source": [
    "pred_texts = data_pcl['text'].tolist()\n",
    "\n",
    "# Replace the nan value with an empty string:\n",
    "for i in range(len(pred_texts)):\n",
    "    if type(pred_texts[i]) != str :\n",
    "        pred_texts[i] = '' \n",
    "        \n",
    "\n",
    "n_texts = len(pred_texts)\n",
    "print('len(pred_texts) =', n_texts)\n",
    "\n",
    "# Binary labels\n",
    "data_pcl['labels'] = data_pcl.label > 1.5"
   ]
  },
  {
   "cell_type": "code",
   "execution_count": 5,
   "metadata": {},
   "outputs": [],
   "source": [
    "# Seperate train and test df according to train_ids and test_ids\n",
    "train_df = data_pcl.loc[data_pcl.par_id.isin(train_ids.par_id)][['text', 'labels']]\n",
    "test_df = data_pcl.loc[data_pcl.par_id.isin(test_ids.par_id)][['text', 'labels']]"
   ]
  },
  {
   "cell_type": "code",
   "execution_count": 6,
   "metadata": {},
   "outputs": [
    {
     "data": {
      "text/html": [
       "<div>\n",
       "<style scoped>\n",
       "    .dataframe tbody tr th:only-of-type {\n",
       "        vertical-align: middle;\n",
       "    }\n",
       "\n",
       "    .dataframe tbody tr th {\n",
       "        vertical-align: top;\n",
       "    }\n",
       "\n",
       "    .dataframe thead th {\n",
       "        text-align: right;\n",
       "    }\n",
       "</style>\n",
       "<table border=\"1\" class=\"dataframe\">\n",
       "  <thead>\n",
       "    <tr style=\"text-align: right;\">\n",
       "      <th></th>\n",
       "      <th>text</th>\n",
       "      <th>labels</th>\n",
       "    </tr>\n",
       "  </thead>\n",
       "  <tbody>\n",
       "    <tr>\n",
       "      <th>0</th>\n",
       "      <td>We 're living in times of absolute insanity , ...</td>\n",
       "      <td>False</td>\n",
       "    </tr>\n",
       "    <tr>\n",
       "      <th>1</th>\n",
       "      <td>In Libya today , there are countless number of...</td>\n",
       "      <td>False</td>\n",
       "    </tr>\n",
       "    <tr>\n",
       "      <th>2</th>\n",
       "      <td>White House press secretary Sean Spicer said t...</td>\n",
       "      <td>False</td>\n",
       "    </tr>\n",
       "    <tr>\n",
       "      <th>3</th>\n",
       "      <td>Council customers only signs would be displaye...</td>\n",
       "      <td>False</td>\n",
       "    </tr>\n",
       "    <tr>\n",
       "      <th>4</th>\n",
       "      <td>\" Just like we received migrants fleeing El Sa...</td>\n",
       "      <td>False</td>\n",
       "    </tr>\n",
       "    <tr>\n",
       "      <th>...</th>\n",
       "      <td>...</td>\n",
       "      <td>...</td>\n",
       "    </tr>\n",
       "    <tr>\n",
       "      <th>10423</th>\n",
       "      <td>\" I do n't believe in abortion , I think it is...</td>\n",
       "      <td>True</td>\n",
       "    </tr>\n",
       "    <tr>\n",
       "      <th>10444</th>\n",
       "      <td>More than 150 volunteers spent the night in ' ...</td>\n",
       "      <td>True</td>\n",
       "    </tr>\n",
       "    <tr>\n",
       "      <th>10453</th>\n",
       "      <td>\" We are challenged , I suggest , to turn this...</td>\n",
       "      <td>True</td>\n",
       "    </tr>\n",
       "    <tr>\n",
       "      <th>10466</th>\n",
       "      <td>\" She has one huge platform , and information ...</td>\n",
       "      <td>True</td>\n",
       "    </tr>\n",
       "    <tr>\n",
       "      <th>10468</th>\n",
       "      <td>\" Guinness World Record of 540lbs of 7-layer m...</td>\n",
       "      <td>True</td>\n",
       "    </tr>\n",
       "  </tbody>\n",
       "</table>\n",
       "<p>8375 rows × 2 columns</p>\n",
       "</div>"
      ],
      "text/plain": [
       "                                                    text  labels\n",
       "0      We 're living in times of absolute insanity , ...   False\n",
       "1      In Libya today , there are countless number of...   False\n",
       "2      White House press secretary Sean Spicer said t...   False\n",
       "3      Council customers only signs would be displaye...   False\n",
       "4      \" Just like we received migrants fleeing El Sa...   False\n",
       "...                                                  ...     ...\n",
       "10423  \" I do n't believe in abortion , I think it is...    True\n",
       "10444  More than 150 volunteers spent the night in ' ...    True\n",
       "10453  \" We are challenged , I suggest , to turn this...    True\n",
       "10466  \" She has one huge platform , and information ...    True\n",
       "10468  \" Guinness World Record of 540lbs of 7-layer m...    True\n",
       "\n",
       "[8375 rows x 2 columns]"
      ]
     },
     "execution_count": 6,
     "metadata": {},
     "output_type": "execute_result"
    }
   ],
   "source": [
    "train_df"
   ]
  },
  {
   "cell_type": "code",
   "execution_count": 7,
   "metadata": {},
   "outputs": [
    {
     "data": {
      "text/html": [
       "<div>\n",
       "<style scoped>\n",
       "    .dataframe tbody tr th:only-of-type {\n",
       "        vertical-align: middle;\n",
       "    }\n",
       "\n",
       "    .dataframe tbody tr th {\n",
       "        vertical-align: top;\n",
       "    }\n",
       "\n",
       "    .dataframe thead th {\n",
       "        text-align: right;\n",
       "    }\n",
       "</style>\n",
       "<table border=\"1\" class=\"dataframe\">\n",
       "  <thead>\n",
       "    <tr style=\"text-align: right;\">\n",
       "      <th></th>\n",
       "      <th>text</th>\n",
       "      <th>labels</th>\n",
       "    </tr>\n",
       "  </thead>\n",
       "  <tbody>\n",
       "    <tr>\n",
       "      <th>106</th>\n",
       "      <td>His present \" chambers \" may be quite humble ,...</td>\n",
       "      <td>True</td>\n",
       "    </tr>\n",
       "    <tr>\n",
       "      <th>148</th>\n",
       "      <td>Krueger recently harnessed that creativity to ...</td>\n",
       "      <td>True</td>\n",
       "    </tr>\n",
       "    <tr>\n",
       "      <th>150</th>\n",
       "      <td>10:41am - Parents of children who died must ge...</td>\n",
       "      <td>True</td>\n",
       "    </tr>\n",
       "    <tr>\n",
       "      <th>153</th>\n",
       "      <td>When some people feel causing problem for some...</td>\n",
       "      <td>True</td>\n",
       "    </tr>\n",
       "    <tr>\n",
       "      <th>156</th>\n",
       "      <td>We are alarmed to learn of your recently circu...</td>\n",
       "      <td>True</td>\n",
       "    </tr>\n",
       "    <tr>\n",
       "      <th>...</th>\n",
       "      <td>...</td>\n",
       "      <td>...</td>\n",
       "    </tr>\n",
       "    <tr>\n",
       "      <th>10462</th>\n",
       "      <td>\" The Pakistani police came to our house and t...</td>\n",
       "      <td>False</td>\n",
       "    </tr>\n",
       "    <tr>\n",
       "      <th>10463</th>\n",
       "      <td>When Marie O'Donoghue went looking for a speci...</td>\n",
       "      <td>False</td>\n",
       "    </tr>\n",
       "    <tr>\n",
       "      <th>10464</th>\n",
       "      <td>Sri Lankan norms and culture inhibit women fro...</td>\n",
       "      <td>False</td>\n",
       "    </tr>\n",
       "    <tr>\n",
       "      <th>10465</th>\n",
       "      <td>He added that the AFP will continue to bank on...</td>\n",
       "      <td>False</td>\n",
       "    </tr>\n",
       "    <tr>\n",
       "      <th>10467</th>\n",
       "      <td>\" Anja Ringgren Loven I ca n't find a word to ...</td>\n",
       "      <td>True</td>\n",
       "    </tr>\n",
       "  </tbody>\n",
       "</table>\n",
       "<p>2094 rows × 2 columns</p>\n",
       "</div>"
      ],
      "text/plain": [
       "                                                    text  labels\n",
       "106    His present \" chambers \" may be quite humble ,...    True\n",
       "148    Krueger recently harnessed that creativity to ...    True\n",
       "150    10:41am - Parents of children who died must ge...    True\n",
       "153    When some people feel causing problem for some...    True\n",
       "156    We are alarmed to learn of your recently circu...    True\n",
       "...                                                  ...     ...\n",
       "10462  \" The Pakistani police came to our house and t...   False\n",
       "10463  When Marie O'Donoghue went looking for a speci...   False\n",
       "10464  Sri Lankan norms and culture inhibit women fro...   False\n",
       "10465  He added that the AFP will continue to bank on...   False\n",
       "10467  \" Anja Ringgren Loven I ca n't find a word to ...    True\n",
       "\n",
       "[2094 rows x 2 columns]"
      ]
     },
     "execution_count": 7,
     "metadata": {},
     "output_type": "execute_result"
    }
   ],
   "source": [
    "test_df"
   ]
  },
  {
   "cell_type": "code",
   "execution_count": 8,
   "metadata": {},
   "outputs": [],
   "source": [
    "task1_model_args = ClassificationArgs(num_train_epochs=20,\n",
    "                                      no_save=True,\n",
    "                                      no_cache=True,\n",
    "                                      overwrite_output_dir=True,\n",
    "                                      evaluate_during_training=True,\n",
    "                                      #max_seq_length=128 #by default, it could be intresting to see if this trucates our dataset\n",
    "                                     )"
   ]
  },
  {
   "cell_type": "code",
   "execution_count": 10,
   "metadata": {},
   "outputs": [
    {
     "name": "stderr",
     "output_type": "stream",
     "text": [
      "Some weights of the model checkpoint at roberta-base were not used when initializing RobertaForSequenceClassification: ['roberta.pooler.dense.bias', 'lm_head.dense.bias', 'lm_head.decoder.weight', 'lm_head.layer_norm.bias', 'lm_head.dense.weight', 'roberta.pooler.dense.weight', 'lm_head.bias', 'lm_head.layer_norm.weight']\n",
      "- This IS expected if you are initializing RobertaForSequenceClassification from the checkpoint of a model trained on another task or with another architecture (e.g. initializing a BertForSequenceClassification model from a BertForPreTraining model).\n",
      "- This IS NOT expected if you are initializing RobertaForSequenceClassification from the checkpoint of a model that you expect to be exactly identical (initializing a BertForSequenceClassification model from a BertForSequenceClassification model).\n",
      "Some weights of RobertaForSequenceClassification were not initialized from the model checkpoint at roberta-base and are newly initialized: ['classifier.out_proj.weight', 'classifier.dense.bias', 'classifier.dense.weight', 'classifier.out_proj.bias']\n",
      "You should probably TRAIN this model on a down-stream task to be able to use it for predictions and inference.\n"
     ]
    }
   ],
   "source": [
    "task1_model = ClassificationModel(\"roberta\", \"roberta-base\",\n",
    "                                  args=task1_model_args,\n",
    "                                  use_cuda=torch.cuda.is_available(),\n",
    "                                 )"
   ]
  },
  {
   "cell_type": "code",
   "execution_count": 23,
   "metadata": {},
   "outputs": [],
   "source": [
    "# Test code on a smaller portion of the dataset\n",
    "mini_train_df = train_df.loc[[0,1,2,3,4,10423,10444,10453,10466,10468]]\n",
    "mini_test_df = test_df.loc[[150,153,10462,10463]]"
   ]
  },
  {
   "cell_type": "code",
   "execution_count": 24,
   "metadata": {},
   "outputs": [
    {
     "data": {
      "text/html": [
       "<div>\n",
       "<style scoped>\n",
       "    .dataframe tbody tr th:only-of-type {\n",
       "        vertical-align: middle;\n",
       "    }\n",
       "\n",
       "    .dataframe tbody tr th {\n",
       "        vertical-align: top;\n",
       "    }\n",
       "\n",
       "    .dataframe thead th {\n",
       "        text-align: right;\n",
       "    }\n",
       "</style>\n",
       "<table border=\"1\" class=\"dataframe\">\n",
       "  <thead>\n",
       "    <tr style=\"text-align: right;\">\n",
       "      <th></th>\n",
       "      <th>text</th>\n",
       "      <th>labels</th>\n",
       "    </tr>\n",
       "  </thead>\n",
       "  <tbody>\n",
       "    <tr>\n",
       "      <th>0</th>\n",
       "      <td>We 're living in times of absolute insanity , ...</td>\n",
       "      <td>False</td>\n",
       "    </tr>\n",
       "    <tr>\n",
       "      <th>1</th>\n",
       "      <td>In Libya today , there are countless number of...</td>\n",
       "      <td>False</td>\n",
       "    </tr>\n",
       "    <tr>\n",
       "      <th>2</th>\n",
       "      <td>White House press secretary Sean Spicer said t...</td>\n",
       "      <td>False</td>\n",
       "    </tr>\n",
       "    <tr>\n",
       "      <th>3</th>\n",
       "      <td>Council customers only signs would be displaye...</td>\n",
       "      <td>False</td>\n",
       "    </tr>\n",
       "    <tr>\n",
       "      <th>4</th>\n",
       "      <td>\" Just like we received migrants fleeing El Sa...</td>\n",
       "      <td>False</td>\n",
       "    </tr>\n",
       "    <tr>\n",
       "      <th>10423</th>\n",
       "      <td>\" I do n't believe in abortion , I think it is...</td>\n",
       "      <td>True</td>\n",
       "    </tr>\n",
       "    <tr>\n",
       "      <th>10444</th>\n",
       "      <td>More than 150 volunteers spent the night in ' ...</td>\n",
       "      <td>True</td>\n",
       "    </tr>\n",
       "    <tr>\n",
       "      <th>10453</th>\n",
       "      <td>\" We are challenged , I suggest , to turn this...</td>\n",
       "      <td>True</td>\n",
       "    </tr>\n",
       "    <tr>\n",
       "      <th>10466</th>\n",
       "      <td>\" She has one huge platform , and information ...</td>\n",
       "      <td>True</td>\n",
       "    </tr>\n",
       "    <tr>\n",
       "      <th>10468</th>\n",
       "      <td>\" Guinness World Record of 540lbs of 7-layer m...</td>\n",
       "      <td>True</td>\n",
       "    </tr>\n",
       "  </tbody>\n",
       "</table>\n",
       "</div>"
      ],
      "text/plain": [
       "                                                    text  labels\n",
       "0      We 're living in times of absolute insanity , ...   False\n",
       "1      In Libya today , there are countless number of...   False\n",
       "2      White House press secretary Sean Spicer said t...   False\n",
       "3      Council customers only signs would be displaye...   False\n",
       "4      \" Just like we received migrants fleeing El Sa...   False\n",
       "10423  \" I do n't believe in abortion , I think it is...    True\n",
       "10444  More than 150 volunteers spent the night in ' ...    True\n",
       "10453  \" We are challenged , I suggest , to turn this...    True\n",
       "10466  \" She has one huge platform , and information ...    True\n",
       "10468  \" Guinness World Record of 540lbs of 7-layer m...    True"
      ]
     },
     "execution_count": 24,
     "metadata": {},
     "output_type": "execute_result"
    }
   ],
   "source": [
    "mini_train_df"
   ]
  },
  {
   "cell_type": "code",
   "execution_count": 25,
   "metadata": {},
   "outputs": [
    {
     "data": {
      "text/html": [
       "<div>\n",
       "<style scoped>\n",
       "    .dataframe tbody tr th:only-of-type {\n",
       "        vertical-align: middle;\n",
       "    }\n",
       "\n",
       "    .dataframe tbody tr th {\n",
       "        vertical-align: top;\n",
       "    }\n",
       "\n",
       "    .dataframe thead th {\n",
       "        text-align: right;\n",
       "    }\n",
       "</style>\n",
       "<table border=\"1\" class=\"dataframe\">\n",
       "  <thead>\n",
       "    <tr style=\"text-align: right;\">\n",
       "      <th></th>\n",
       "      <th>text</th>\n",
       "      <th>labels</th>\n",
       "    </tr>\n",
       "  </thead>\n",
       "  <tbody>\n",
       "    <tr>\n",
       "      <th>150</th>\n",
       "      <td>10:41am - Parents of children who died must ge...</td>\n",
       "      <td>True</td>\n",
       "    </tr>\n",
       "    <tr>\n",
       "      <th>153</th>\n",
       "      <td>When some people feel causing problem for some...</td>\n",
       "      <td>True</td>\n",
       "    </tr>\n",
       "    <tr>\n",
       "      <th>10462</th>\n",
       "      <td>\" The Pakistani police came to our house and t...</td>\n",
       "      <td>False</td>\n",
       "    </tr>\n",
       "    <tr>\n",
       "      <th>10463</th>\n",
       "      <td>When Marie O'Donoghue went looking for a speci...</td>\n",
       "      <td>False</td>\n",
       "    </tr>\n",
       "  </tbody>\n",
       "</table>\n",
       "</div>"
      ],
      "text/plain": [
       "                                                    text  labels\n",
       "150    10:41am - Parents of children who died must ge...    True\n",
       "153    When some people feel causing problem for some...    True\n",
       "10462  \" The Pakistani police came to our house and t...   False\n",
       "10463  When Marie O'Donoghue went looking for a speci...   False"
      ]
     },
     "execution_count": 25,
     "metadata": {},
     "output_type": "execute_result"
    }
   ],
   "source": [
    "mini_test_df"
   ]
  },
  {
   "cell_type": "code",
   "execution_count": 26,
   "metadata": {},
   "outputs": [
    {
     "data": {
      "application/vnd.jupyter.widget-view+json": {
       "model_id": "cdc0ce3b4c6a40dfbaf5a4e66205d1d6",
       "version_major": 2,
       "version_minor": 0
      },
      "text/plain": [
       "  0%|          | 0/10 [00:00<?, ?it/s]"
      ]
     },
     "metadata": {},
     "output_type": "display_data"
    },
    {
     "name": "stderr",
     "output_type": "stream",
     "text": [
      "/Users/hubzer/opt/anaconda3/lib/python3.8/site-packages/transformers/optimization.py:306: FutureWarning: This implementation of AdamW is deprecated and will be removed in a future version. Use thePyTorch implementation torch.optim.AdamW instead, or set `no_deprecation_warning=True` to disable this warning\n",
      "  warnings.warn(\n"
     ]
    },
    {
     "data": {
      "application/vnd.jupyter.widget-view+json": {
       "model_id": "0d91b8ac0a344a7e820eb638214eda25",
       "version_major": 2,
       "version_minor": 0
      },
      "text/plain": [
       "Epoch:   0%|          | 0/20 [00:00<?, ?it/s]"
      ]
     },
     "metadata": {},
     "output_type": "display_data"
    },
    {
     "data": {
      "application/vnd.jupyter.widget-view+json": {
       "model_id": "280b05b14820421e97a2b426e1e5b868",
       "version_major": 2,
       "version_minor": 0
      },
      "text/plain": [
       "Running Epoch 0 of 20:   0%|          | 0/2 [00:00<?, ?it/s]"
      ]
     },
     "metadata": {},
     "output_type": "display_data"
    },
    {
     "data": {
      "application/vnd.jupyter.widget-view+json": {
       "model_id": "ed990682754c4ebaa3ea3fca04f330d7",
       "version_major": 2,
       "version_minor": 0
      },
      "text/plain": [
       "  0%|          | 0/4 [00:00<?, ?it/s]"
      ]
     },
     "metadata": {},
     "output_type": "display_data"
    },
    {
     "data": {
      "application/vnd.jupyter.widget-view+json": {
       "model_id": "f0ff18ec1bbd4f36bb8a0e8da0f55b6d",
       "version_major": 2,
       "version_minor": 0
      },
      "text/plain": [
       "Running Epoch 1 of 20:   0%|          | 0/2 [00:00<?, ?it/s]"
      ]
     },
     "metadata": {},
     "output_type": "display_data"
    },
    {
     "data": {
      "application/vnd.jupyter.widget-view+json": {
       "model_id": "fa8ede74a3684d5198cf16e48c62e43b",
       "version_major": 2,
       "version_minor": 0
      },
      "text/plain": [
       "  0%|          | 0/4 [00:00<?, ?it/s]"
      ]
     },
     "metadata": {},
     "output_type": "display_data"
    },
    {
     "data": {
      "application/vnd.jupyter.widget-view+json": {
       "model_id": "b45b306f17764137bd1be862d953ebcd",
       "version_major": 2,
       "version_minor": 0
      },
      "text/plain": [
       "Running Epoch 2 of 20:   0%|          | 0/2 [00:00<?, ?it/s]"
      ]
     },
     "metadata": {},
     "output_type": "display_data"
    },
    {
     "data": {
      "application/vnd.jupyter.widget-view+json": {
       "model_id": "603bc3e825294444ab159258065d1e65",
       "version_major": 2,
       "version_minor": 0
      },
      "text/plain": [
       "  0%|          | 0/4 [00:00<?, ?it/s]"
      ]
     },
     "metadata": {},
     "output_type": "display_data"
    },
    {
     "name": "stderr",
     "output_type": "stream",
     "text": [
      "/Users/hubzer/opt/anaconda3/lib/python3.8/site-packages/sklearn/metrics/_classification.py:846: RuntimeWarning: invalid value encountered in double_scalars\n",
      "  mcc = cov_ytyp / np.sqrt(cov_ytyt * cov_ypyp)\n"
     ]
    },
    {
     "data": {
      "application/vnd.jupyter.widget-view+json": {
       "model_id": "506f8a160d4b4d9cb90aeca7303968ad",
       "version_major": 2,
       "version_minor": 0
      },
      "text/plain": [
       "Running Epoch 3 of 20:   0%|          | 0/2 [00:00<?, ?it/s]"
      ]
     },
     "metadata": {},
     "output_type": "display_data"
    },
    {
     "data": {
      "application/vnd.jupyter.widget-view+json": {
       "model_id": "b503b49a4d7e49288fb91b708deb55e8",
       "version_major": 2,
       "version_minor": 0
      },
      "text/plain": [
       "  0%|          | 0/4 [00:00<?, ?it/s]"
      ]
     },
     "metadata": {},
     "output_type": "display_data"
    },
    {
     "data": {
      "application/vnd.jupyter.widget-view+json": {
       "model_id": "8ced9d3eb8304e8a82fe61059b58aebf",
       "version_major": 2,
       "version_minor": 0
      },
      "text/plain": [
       "Running Epoch 4 of 20:   0%|          | 0/2 [00:00<?, ?it/s]"
      ]
     },
     "metadata": {},
     "output_type": "display_data"
    },
    {
     "data": {
      "application/vnd.jupyter.widget-view+json": {
       "model_id": "8408b870ae2e462db17cc149bc09c8bf",
       "version_major": 2,
       "version_minor": 0
      },
      "text/plain": [
       "  0%|          | 0/4 [00:00<?, ?it/s]"
      ]
     },
     "metadata": {},
     "output_type": "display_data"
    },
    {
     "data": {
      "application/vnd.jupyter.widget-view+json": {
       "model_id": "dd7f01740dd14df9a763e3acde75807e",
       "version_major": 2,
       "version_minor": 0
      },
      "text/plain": [
       "Running Epoch 5 of 20:   0%|          | 0/2 [00:00<?, ?it/s]"
      ]
     },
     "metadata": {},
     "output_type": "display_data"
    },
    {
     "data": {
      "application/vnd.jupyter.widget-view+json": {
       "model_id": "47892166a4454c599ab2c09856fa0f9d",
       "version_major": 2,
       "version_minor": 0
      },
      "text/plain": [
       "  0%|          | 0/4 [00:00<?, ?it/s]"
      ]
     },
     "metadata": {},
     "output_type": "display_data"
    },
    {
     "data": {
      "application/vnd.jupyter.widget-view+json": {
       "model_id": "2aa6b8e0f1914fc5b96f7af0f16e127a",
       "version_major": 2,
       "version_minor": 0
      },
      "text/plain": [
       "Running Epoch 6 of 20:   0%|          | 0/2 [00:00<?, ?it/s]"
      ]
     },
     "metadata": {},
     "output_type": "display_data"
    },
    {
     "data": {
      "application/vnd.jupyter.widget-view+json": {
       "model_id": "a187d36d429d4d1cabc1348f2237b247",
       "version_major": 2,
       "version_minor": 0
      },
      "text/plain": [
       "  0%|          | 0/4 [00:00<?, ?it/s]"
      ]
     },
     "metadata": {},
     "output_type": "display_data"
    },
    {
     "data": {
      "application/vnd.jupyter.widget-view+json": {
       "model_id": "9aee50ff0041483fa21fcc814ee46d0b",
       "version_major": 2,
       "version_minor": 0
      },
      "text/plain": [
       "Running Epoch 7 of 20:   0%|          | 0/2 [00:00<?, ?it/s]"
      ]
     },
     "metadata": {},
     "output_type": "display_data"
    },
    {
     "data": {
      "application/vnd.jupyter.widget-view+json": {
       "model_id": "4fbdc4721c674d088c94a86bc6e3e04d",
       "version_major": 2,
       "version_minor": 0
      },
      "text/plain": [
       "  0%|          | 0/4 [00:00<?, ?it/s]"
      ]
     },
     "metadata": {},
     "output_type": "display_data"
    },
    {
     "data": {
      "application/vnd.jupyter.widget-view+json": {
       "model_id": "e90ec62e6f4d4deabecb94f7e91ee326",
       "version_major": 2,
       "version_minor": 0
      },
      "text/plain": [
       "Running Epoch 8 of 20:   0%|          | 0/2 [00:00<?, ?it/s]"
      ]
     },
     "metadata": {},
     "output_type": "display_data"
    },
    {
     "data": {
      "application/vnd.jupyter.widget-view+json": {
       "model_id": "fdc8550055714efabd8539442a030a21",
       "version_major": 2,
       "version_minor": 0
      },
      "text/plain": [
       "  0%|          | 0/4 [00:00<?, ?it/s]"
      ]
     },
     "metadata": {},
     "output_type": "display_data"
    },
    {
     "data": {
      "application/vnd.jupyter.widget-view+json": {
       "model_id": "aef69687fc5a4fc28d4c4ac182c13e4c",
       "version_major": 2,
       "version_minor": 0
      },
      "text/plain": [
       "Running Epoch 9 of 20:   0%|          | 0/2 [00:00<?, ?it/s]"
      ]
     },
     "metadata": {},
     "output_type": "display_data"
    },
    {
     "data": {
      "application/vnd.jupyter.widget-view+json": {
       "model_id": "856a27d1e47e45b8bbfddcec3f129c5c",
       "version_major": 2,
       "version_minor": 0
      },
      "text/plain": [
       "  0%|          | 0/4 [00:00<?, ?it/s]"
      ]
     },
     "metadata": {},
     "output_type": "display_data"
    },
    {
     "data": {
      "application/vnd.jupyter.widget-view+json": {
       "model_id": "d2f8f022713447eeb395747391cc8d7f",
       "version_major": 2,
       "version_minor": 0
      },
      "text/plain": [
       "Running Epoch 10 of 20:   0%|          | 0/2 [00:00<?, ?it/s]"
      ]
     },
     "metadata": {},
     "output_type": "display_data"
    },
    {
     "data": {
      "application/vnd.jupyter.widget-view+json": {
       "model_id": "f5ff12fd987f48c899baa61b0975a759",
       "version_major": 2,
       "version_minor": 0
      },
      "text/plain": [
       "  0%|          | 0/4 [00:00<?, ?it/s]"
      ]
     },
     "metadata": {},
     "output_type": "display_data"
    },
    {
     "data": {
      "application/vnd.jupyter.widget-view+json": {
       "model_id": "e00cca1c34164460a5af2f8de9079b9b",
       "version_major": 2,
       "version_minor": 0
      },
      "text/plain": [
       "Running Epoch 11 of 20:   0%|          | 0/2 [00:00<?, ?it/s]"
      ]
     },
     "metadata": {},
     "output_type": "display_data"
    },
    {
     "data": {
      "application/vnd.jupyter.widget-view+json": {
       "model_id": "b5541228800e41f6ac8df8b9f420a1b3",
       "version_major": 2,
       "version_minor": 0
      },
      "text/plain": [
       "  0%|          | 0/4 [00:00<?, ?it/s]"
      ]
     },
     "metadata": {},
     "output_type": "display_data"
    },
    {
     "data": {
      "application/vnd.jupyter.widget-view+json": {
       "model_id": "1a4ff94acb9943359e2fce4c0a0330a3",
       "version_major": 2,
       "version_minor": 0
      },
      "text/plain": [
       "Running Epoch 12 of 20:   0%|          | 0/2 [00:00<?, ?it/s]"
      ]
     },
     "metadata": {},
     "output_type": "display_data"
    },
    {
     "data": {
      "application/vnd.jupyter.widget-view+json": {
       "model_id": "5fb3900cbeb5468095a0b2ab07b91824",
       "version_major": 2,
       "version_minor": 0
      },
      "text/plain": [
       "  0%|          | 0/4 [00:00<?, ?it/s]"
      ]
     },
     "metadata": {},
     "output_type": "display_data"
    },
    {
     "data": {
      "application/vnd.jupyter.widget-view+json": {
       "model_id": "a326816c12e6485d9fd2b5afd087ff25",
       "version_major": 2,
       "version_minor": 0
      },
      "text/plain": [
       "Running Epoch 13 of 20:   0%|          | 0/2 [00:00<?, ?it/s]"
      ]
     },
     "metadata": {},
     "output_type": "display_data"
    },
    {
     "data": {
      "application/vnd.jupyter.widget-view+json": {
       "model_id": "2e58deeef38b4ae7aff6dd92661fd8c3",
       "version_major": 2,
       "version_minor": 0
      },
      "text/plain": [
       "  0%|          | 0/4 [00:00<?, ?it/s]"
      ]
     },
     "metadata": {},
     "output_type": "display_data"
    },
    {
     "data": {
      "application/vnd.jupyter.widget-view+json": {
       "model_id": "6dbaae5fd55c427eabd1ad021d06e49e",
       "version_major": 2,
       "version_minor": 0
      },
      "text/plain": [
       "Running Epoch 14 of 20:   0%|          | 0/2 [00:00<?, ?it/s]"
      ]
     },
     "metadata": {},
     "output_type": "display_data"
    },
    {
     "data": {
      "application/vnd.jupyter.widget-view+json": {
       "model_id": "52fceee8a3244f29b6e2aa11a2489798",
       "version_major": 2,
       "version_minor": 0
      },
      "text/plain": [
       "  0%|          | 0/4 [00:00<?, ?it/s]"
      ]
     },
     "metadata": {},
     "output_type": "display_data"
    },
    {
     "data": {
      "application/vnd.jupyter.widget-view+json": {
       "model_id": "8dda169ee9ba4fafad9a0b8bfc2a30c8",
       "version_major": 2,
       "version_minor": 0
      },
      "text/plain": [
       "Running Epoch 15 of 20:   0%|          | 0/2 [00:00<?, ?it/s]"
      ]
     },
     "metadata": {},
     "output_type": "display_data"
    },
    {
     "data": {
      "application/vnd.jupyter.widget-view+json": {
       "model_id": "5eb6e32d658e4c34a7711cd3e8f56004",
       "version_major": 2,
       "version_minor": 0
      },
      "text/plain": [
       "  0%|          | 0/4 [00:00<?, ?it/s]"
      ]
     },
     "metadata": {},
     "output_type": "display_data"
    },
    {
     "data": {
      "application/vnd.jupyter.widget-view+json": {
       "model_id": "37e52460cb784ae1ac8863ecd2fb80cb",
       "version_major": 2,
       "version_minor": 0
      },
      "text/plain": [
       "Running Epoch 16 of 20:   0%|          | 0/2 [00:00<?, ?it/s]"
      ]
     },
     "metadata": {},
     "output_type": "display_data"
    },
    {
     "data": {
      "application/vnd.jupyter.widget-view+json": {
       "model_id": "8fed20103d8c446d9ce27782e0594169",
       "version_major": 2,
       "version_minor": 0
      },
      "text/plain": [
       "  0%|          | 0/4 [00:00<?, ?it/s]"
      ]
     },
     "metadata": {},
     "output_type": "display_data"
    },
    {
     "data": {
      "application/vnd.jupyter.widget-view+json": {
       "model_id": "3de4b32eb1464d5f87e9576db1c17ee2",
       "version_major": 2,
       "version_minor": 0
      },
      "text/plain": [
       "Running Epoch 17 of 20:   0%|          | 0/2 [00:00<?, ?it/s]"
      ]
     },
     "metadata": {},
     "output_type": "display_data"
    },
    {
     "data": {
      "application/vnd.jupyter.widget-view+json": {
       "model_id": "fbda44f1f92c41af8af9a892a2148975",
       "version_major": 2,
       "version_minor": 0
      },
      "text/plain": [
       "  0%|          | 0/4 [00:00<?, ?it/s]"
      ]
     },
     "metadata": {},
     "output_type": "display_data"
    },
    {
     "data": {
      "application/vnd.jupyter.widget-view+json": {
       "model_id": "3d80afaa790547c0b9dda298b9df5085",
       "version_major": 2,
       "version_minor": 0
      },
      "text/plain": [
       "Running Epoch 18 of 20:   0%|          | 0/2 [00:00<?, ?it/s]"
      ]
     },
     "metadata": {},
     "output_type": "display_data"
    },
    {
     "data": {
      "application/vnd.jupyter.widget-view+json": {
       "model_id": "25800c0a271b4ac0a4738263cf3999d0",
       "version_major": 2,
       "version_minor": 0
      },
      "text/plain": [
       "  0%|          | 0/4 [00:00<?, ?it/s]"
      ]
     },
     "metadata": {},
     "output_type": "display_data"
    },
    {
     "data": {
      "application/vnd.jupyter.widget-view+json": {
       "model_id": "36036993053f4ff09dff813d825c48d5",
       "version_major": 2,
       "version_minor": 0
      },
      "text/plain": [
       "Running Epoch 19 of 20:   0%|          | 0/2 [00:00<?, ?it/s]"
      ]
     },
     "metadata": {},
     "output_type": "display_data"
    },
    {
     "data": {
      "application/vnd.jupyter.widget-view+json": {
       "model_id": "a35003a634b542d2a90ab459d1d08e85",
       "version_major": 2,
       "version_minor": 0
      },
      "text/plain": [
       "  0%|          | 0/4 [00:00<?, ?it/s]"
      ]
     },
     "metadata": {},
     "output_type": "display_data"
    },
    {
     "data": {
      "text/plain": [
       "(40,\n",
       " defaultdict(list,\n",
       "             {'global_step': [2,\n",
       "               4,\n",
       "               6,\n",
       "               8,\n",
       "               10,\n",
       "               12,\n",
       "               14,\n",
       "               16,\n",
       "               18,\n",
       "               20,\n",
       "               22,\n",
       "               24,\n",
       "               26,\n",
       "               28,\n",
       "               30,\n",
       "               32,\n",
       "               34,\n",
       "               36,\n",
       "               38,\n",
       "               40],\n",
       "              'train_loss': [6.10166072845459,\n",
       "               0.00936900358647108,\n",
       "               5.169245719909668,\n",
       "               0.010508142411708832,\n",
       "               1.204723596572876,\n",
       "               0.4422745704650879,\n",
       "               0.023574907332658768,\n",
       "               0.33469676971435547,\n",
       "               0.19068971276283264,\n",
       "               0.04030176252126694,\n",
       "               0.006139382719993591,\n",
       "               0.007932606153190136,\n",
       "               0.007344862911850214,\n",
       "               0.004652912728488445,\n",
       "               0.002712985035032034,\n",
       "               0.0024902373552322388,\n",
       "               0.002695037517696619,\n",
       "               0.0030203047208487988,\n",
       "               0.0019351858645677567,\n",
       "               0.0020499727688729763],\n",
       "              'mcc': [0.5773502691896258,\n",
       "               0.5773502691896258,\n",
       "               0.0,\n",
       "               0.0,\n",
       "               0.0,\n",
       "               0.5773502691896258,\n",
       "               0.5773502691896258,\n",
       "               0.0,\n",
       "               0.5773502691896258,\n",
       "               0.0,\n",
       "               -0.5773502691896258,\n",
       "               0.0,\n",
       "               0.0,\n",
       "               0.0,\n",
       "               0.0,\n",
       "               0.0,\n",
       "               0.0,\n",
       "               0.0,\n",
       "               0.0,\n",
       "               0.0],\n",
       "              'tp': [1,\n",
       "               1,\n",
       "               2,\n",
       "               2,\n",
       "               2,\n",
       "               1,\n",
       "               1,\n",
       "               0,\n",
       "               1,\n",
       "               1,\n",
       "               1,\n",
       "               2,\n",
       "               2,\n",
       "               2,\n",
       "               2,\n",
       "               2,\n",
       "               2,\n",
       "               2,\n",
       "               2,\n",
       "               2],\n",
       "              'tn': [2,\n",
       "               2,\n",
       "               0,\n",
       "               0,\n",
       "               0,\n",
       "               2,\n",
       "               2,\n",
       "               2,\n",
       "               2,\n",
       "               1,\n",
       "               0,\n",
       "               0,\n",
       "               0,\n",
       "               0,\n",
       "               0,\n",
       "               0,\n",
       "               0,\n",
       "               0,\n",
       "               0,\n",
       "               0],\n",
       "              'fp': [0,\n",
       "               0,\n",
       "               2,\n",
       "               2,\n",
       "               2,\n",
       "               0,\n",
       "               0,\n",
       "               0,\n",
       "               0,\n",
       "               1,\n",
       "               2,\n",
       "               2,\n",
       "               2,\n",
       "               2,\n",
       "               2,\n",
       "               2,\n",
       "               2,\n",
       "               2,\n",
       "               2,\n",
       "               2],\n",
       "              'fn': [1,\n",
       "               1,\n",
       "               0,\n",
       "               0,\n",
       "               0,\n",
       "               1,\n",
       "               1,\n",
       "               2,\n",
       "               1,\n",
       "               1,\n",
       "               1,\n",
       "               0,\n",
       "               0,\n",
       "               0,\n",
       "               0,\n",
       "               0,\n",
       "               0,\n",
       "               0,\n",
       "               0,\n",
       "               0],\n",
       "              'auroc': [1.0,\n",
       "               1.0,\n",
       "               0.75,\n",
       "               0.75,\n",
       "               0.75,\n",
       "               1.0,\n",
       "               1.0,\n",
       "               0.5,\n",
       "               0.5,\n",
       "               0.5,\n",
       "               0.5,\n",
       "               0.5,\n",
       "               0.5,\n",
       "               0.5,\n",
       "               0.5,\n",
       "               0.5,\n",
       "               0.5,\n",
       "               0.5,\n",
       "               0.5,\n",
       "               0.5],\n",
       "              'auprc': [1.0,\n",
       "               1.0,\n",
       "               0.8333333333333333,\n",
       "               0.8333333333333333,\n",
       "               0.8333333333333333,\n",
       "               1.0,\n",
       "               1.0,\n",
       "               0.75,\n",
       "               0.75,\n",
       "               0.75,\n",
       "               0.75,\n",
       "               0.75,\n",
       "               0.75,\n",
       "               0.75,\n",
       "               0.75,\n",
       "               0.75,\n",
       "               0.75,\n",
       "               0.75,\n",
       "               0.75,\n",
       "               0.75],\n",
       "              'f1': [0.6666666666666666,\n",
       "               0.6666666666666666,\n",
       "               0.6666666666666666,\n",
       "               0.6666666666666666,\n",
       "               0.6666666666666666,\n",
       "               0.6666666666666666,\n",
       "               0.6666666666666666,\n",
       "               0.0,\n",
       "               0.6666666666666666,\n",
       "               0.5,\n",
       "               0.4,\n",
       "               0.6666666666666666,\n",
       "               0.6666666666666666,\n",
       "               0.6666666666666666,\n",
       "               0.6666666666666666,\n",
       "               0.6666666666666666,\n",
       "               0.6666666666666666,\n",
       "               0.6666666666666666,\n",
       "               0.6666666666666666,\n",
       "               0.6666666666666666],\n",
       "              'eval_loss': [1.8992207050323486,\n",
       "               0.9508534073829651,\n",
       "               2.163051128387451,\n",
       "               1.7099212408065796,\n",
       "               0.9546302556991577,\n",
       "               0.4798605144023895,\n",
       "               0.8926002383232117,\n",
       "               1.0880681276321411,\n",
       "               0.8299210071563721,\n",
       "               0.7284098267555237,\n",
       "               1.2451815605163574,\n",
       "               1.6260706186294556,\n",
       "               1.8921233415603638,\n",
       "               2.07049560546875,\n",
       "               2.1885223388671875,\n",
       "               2.26216459274292,\n",
       "               2.3023533821105957,\n",
       "               2.319694995880127,\n",
       "               2.325625419616699,\n",
       "               2.3269338607788086]}))"
      ]
     },
     "execution_count": 26,
     "metadata": {},
     "output_type": "execute_result"
    }
   ],
   "source": [
    "# Run the model\n",
    "task1_model.train_model(mini_train_df, show_running_loss=True, eval_df=mini_test_df, f1=f1_score)"
   ]
  },
  {
   "cell_type": "code",
   "execution_count": 27,
   "metadata": {},
   "outputs": [],
   "source": [
    "progress = pd.read_csv(\"./outputs/training_progress_scores.csv\")"
   ]
  },
  {
   "cell_type": "code",
   "execution_count": 28,
   "metadata": {},
   "outputs": [
    {
     "data": {
      "text/html": [
       "<div>\n",
       "<style scoped>\n",
       "    .dataframe tbody tr th:only-of-type {\n",
       "        vertical-align: middle;\n",
       "    }\n",
       "\n",
       "    .dataframe tbody tr th {\n",
       "        vertical-align: top;\n",
       "    }\n",
       "\n",
       "    .dataframe thead th {\n",
       "        text-align: right;\n",
       "    }\n",
       "</style>\n",
       "<table border=\"1\" class=\"dataframe\">\n",
       "  <thead>\n",
       "    <tr style=\"text-align: right;\">\n",
       "      <th></th>\n",
       "      <th>global_step</th>\n",
       "      <th>train_loss</th>\n",
       "      <th>mcc</th>\n",
       "      <th>tp</th>\n",
       "      <th>tn</th>\n",
       "      <th>fp</th>\n",
       "      <th>fn</th>\n",
       "      <th>auroc</th>\n",
       "      <th>auprc</th>\n",
       "      <th>f1</th>\n",
       "      <th>eval_loss</th>\n",
       "    </tr>\n",
       "  </thead>\n",
       "  <tbody>\n",
       "    <tr>\n",
       "      <th>0</th>\n",
       "      <td>2</td>\n",
       "      <td>6.101661</td>\n",
       "      <td>0.57735</td>\n",
       "      <td>1</td>\n",
       "      <td>2</td>\n",
       "      <td>0</td>\n",
       "      <td>1</td>\n",
       "      <td>1.00</td>\n",
       "      <td>1.000000</td>\n",
       "      <td>0.666667</td>\n",
       "      <td>1.899221</td>\n",
       "    </tr>\n",
       "    <tr>\n",
       "      <th>1</th>\n",
       "      <td>4</td>\n",
       "      <td>0.009369</td>\n",
       "      <td>0.57735</td>\n",
       "      <td>1</td>\n",
       "      <td>2</td>\n",
       "      <td>0</td>\n",
       "      <td>1</td>\n",
       "      <td>1.00</td>\n",
       "      <td>1.000000</td>\n",
       "      <td>0.666667</td>\n",
       "      <td>0.950853</td>\n",
       "    </tr>\n",
       "    <tr>\n",
       "      <th>2</th>\n",
       "      <td>6</td>\n",
       "      <td>5.169246</td>\n",
       "      <td>0.00000</td>\n",
       "      <td>2</td>\n",
       "      <td>0</td>\n",
       "      <td>2</td>\n",
       "      <td>0</td>\n",
       "      <td>0.75</td>\n",
       "      <td>0.833333</td>\n",
       "      <td>0.666667</td>\n",
       "      <td>2.163051</td>\n",
       "    </tr>\n",
       "    <tr>\n",
       "      <th>3</th>\n",
       "      <td>8</td>\n",
       "      <td>0.010508</td>\n",
       "      <td>0.00000</td>\n",
       "      <td>2</td>\n",
       "      <td>0</td>\n",
       "      <td>2</td>\n",
       "      <td>0</td>\n",
       "      <td>0.75</td>\n",
       "      <td>0.833333</td>\n",
       "      <td>0.666667</td>\n",
       "      <td>1.709921</td>\n",
       "    </tr>\n",
       "    <tr>\n",
       "      <th>4</th>\n",
       "      <td>10</td>\n",
       "      <td>1.204724</td>\n",
       "      <td>0.00000</td>\n",
       "      <td>2</td>\n",
       "      <td>0</td>\n",
       "      <td>2</td>\n",
       "      <td>0</td>\n",
       "      <td>0.75</td>\n",
       "      <td>0.833333</td>\n",
       "      <td>0.666667</td>\n",
       "      <td>0.954630</td>\n",
       "    </tr>\n",
       "    <tr>\n",
       "      <th>5</th>\n",
       "      <td>12</td>\n",
       "      <td>0.442275</td>\n",
       "      <td>0.57735</td>\n",
       "      <td>1</td>\n",
       "      <td>2</td>\n",
       "      <td>0</td>\n",
       "      <td>1</td>\n",
       "      <td>1.00</td>\n",
       "      <td>1.000000</td>\n",
       "      <td>0.666667</td>\n",
       "      <td>0.479861</td>\n",
       "    </tr>\n",
       "    <tr>\n",
       "      <th>6</th>\n",
       "      <td>14</td>\n",
       "      <td>0.023575</td>\n",
       "      <td>0.57735</td>\n",
       "      <td>1</td>\n",
       "      <td>2</td>\n",
       "      <td>0</td>\n",
       "      <td>1</td>\n",
       "      <td>1.00</td>\n",
       "      <td>1.000000</td>\n",
       "      <td>0.666667</td>\n",
       "      <td>0.892600</td>\n",
       "    </tr>\n",
       "    <tr>\n",
       "      <th>7</th>\n",
       "      <td>16</td>\n",
       "      <td>0.334697</td>\n",
       "      <td>0.00000</td>\n",
       "      <td>0</td>\n",
       "      <td>2</td>\n",
       "      <td>0</td>\n",
       "      <td>2</td>\n",
       "      <td>0.50</td>\n",
       "      <td>0.750000</td>\n",
       "      <td>0.000000</td>\n",
       "      <td>1.088068</td>\n",
       "    </tr>\n",
       "    <tr>\n",
       "      <th>8</th>\n",
       "      <td>18</td>\n",
       "      <td>0.190690</td>\n",
       "      <td>0.57735</td>\n",
       "      <td>1</td>\n",
       "      <td>2</td>\n",
       "      <td>0</td>\n",
       "      <td>1</td>\n",
       "      <td>0.50</td>\n",
       "      <td>0.750000</td>\n",
       "      <td>0.666667</td>\n",
       "      <td>0.829921</td>\n",
       "    </tr>\n",
       "    <tr>\n",
       "      <th>9</th>\n",
       "      <td>20</td>\n",
       "      <td>0.040302</td>\n",
       "      <td>0.00000</td>\n",
       "      <td>1</td>\n",
       "      <td>1</td>\n",
       "      <td>1</td>\n",
       "      <td>1</td>\n",
       "      <td>0.50</td>\n",
       "      <td>0.750000</td>\n",
       "      <td>0.500000</td>\n",
       "      <td>0.728410</td>\n",
       "    </tr>\n",
       "    <tr>\n",
       "      <th>10</th>\n",
       "      <td>22</td>\n",
       "      <td>0.006139</td>\n",
       "      <td>-0.57735</td>\n",
       "      <td>1</td>\n",
       "      <td>0</td>\n",
       "      <td>2</td>\n",
       "      <td>1</td>\n",
       "      <td>0.50</td>\n",
       "      <td>0.750000</td>\n",
       "      <td>0.400000</td>\n",
       "      <td>1.245182</td>\n",
       "    </tr>\n",
       "    <tr>\n",
       "      <th>11</th>\n",
       "      <td>24</td>\n",
       "      <td>0.007933</td>\n",
       "      <td>0.00000</td>\n",
       "      <td>2</td>\n",
       "      <td>0</td>\n",
       "      <td>2</td>\n",
       "      <td>0</td>\n",
       "      <td>0.50</td>\n",
       "      <td>0.750000</td>\n",
       "      <td>0.666667</td>\n",
       "      <td>1.626071</td>\n",
       "    </tr>\n",
       "    <tr>\n",
       "      <th>12</th>\n",
       "      <td>26</td>\n",
       "      <td>0.007345</td>\n",
       "      <td>0.00000</td>\n",
       "      <td>2</td>\n",
       "      <td>0</td>\n",
       "      <td>2</td>\n",
       "      <td>0</td>\n",
       "      <td>0.50</td>\n",
       "      <td>0.750000</td>\n",
       "      <td>0.666667</td>\n",
       "      <td>1.892123</td>\n",
       "    </tr>\n",
       "    <tr>\n",
       "      <th>13</th>\n",
       "      <td>28</td>\n",
       "      <td>0.004653</td>\n",
       "      <td>0.00000</td>\n",
       "      <td>2</td>\n",
       "      <td>0</td>\n",
       "      <td>2</td>\n",
       "      <td>0</td>\n",
       "      <td>0.50</td>\n",
       "      <td>0.750000</td>\n",
       "      <td>0.666667</td>\n",
       "      <td>2.070496</td>\n",
       "    </tr>\n",
       "    <tr>\n",
       "      <th>14</th>\n",
       "      <td>30</td>\n",
       "      <td>0.002713</td>\n",
       "      <td>0.00000</td>\n",
       "      <td>2</td>\n",
       "      <td>0</td>\n",
       "      <td>2</td>\n",
       "      <td>0</td>\n",
       "      <td>0.50</td>\n",
       "      <td>0.750000</td>\n",
       "      <td>0.666667</td>\n",
       "      <td>2.188522</td>\n",
       "    </tr>\n",
       "    <tr>\n",
       "      <th>15</th>\n",
       "      <td>32</td>\n",
       "      <td>0.002490</td>\n",
       "      <td>0.00000</td>\n",
       "      <td>2</td>\n",
       "      <td>0</td>\n",
       "      <td>2</td>\n",
       "      <td>0</td>\n",
       "      <td>0.50</td>\n",
       "      <td>0.750000</td>\n",
       "      <td>0.666667</td>\n",
       "      <td>2.262165</td>\n",
       "    </tr>\n",
       "    <tr>\n",
       "      <th>16</th>\n",
       "      <td>34</td>\n",
       "      <td>0.002695</td>\n",
       "      <td>0.00000</td>\n",
       "      <td>2</td>\n",
       "      <td>0</td>\n",
       "      <td>2</td>\n",
       "      <td>0</td>\n",
       "      <td>0.50</td>\n",
       "      <td>0.750000</td>\n",
       "      <td>0.666667</td>\n",
       "      <td>2.302353</td>\n",
       "    </tr>\n",
       "    <tr>\n",
       "      <th>17</th>\n",
       "      <td>36</td>\n",
       "      <td>0.003020</td>\n",
       "      <td>0.00000</td>\n",
       "      <td>2</td>\n",
       "      <td>0</td>\n",
       "      <td>2</td>\n",
       "      <td>0</td>\n",
       "      <td>0.50</td>\n",
       "      <td>0.750000</td>\n",
       "      <td>0.666667</td>\n",
       "      <td>2.319695</td>\n",
       "    </tr>\n",
       "    <tr>\n",
       "      <th>18</th>\n",
       "      <td>38</td>\n",
       "      <td>0.001935</td>\n",
       "      <td>0.00000</td>\n",
       "      <td>2</td>\n",
       "      <td>0</td>\n",
       "      <td>2</td>\n",
       "      <td>0</td>\n",
       "      <td>0.50</td>\n",
       "      <td>0.750000</td>\n",
       "      <td>0.666667</td>\n",
       "      <td>2.325625</td>\n",
       "    </tr>\n",
       "    <tr>\n",
       "      <th>19</th>\n",
       "      <td>40</td>\n",
       "      <td>0.002050</td>\n",
       "      <td>0.00000</td>\n",
       "      <td>2</td>\n",
       "      <td>0</td>\n",
       "      <td>2</td>\n",
       "      <td>0</td>\n",
       "      <td>0.50</td>\n",
       "      <td>0.750000</td>\n",
       "      <td>0.666667</td>\n",
       "      <td>2.326934</td>\n",
       "    </tr>\n",
       "  </tbody>\n",
       "</table>\n",
       "</div>"
      ],
      "text/plain": [
       "    global_step  train_loss      mcc  tp  tn  fp  fn  auroc     auprc  \\\n",
       "0             2    6.101661  0.57735   1   2   0   1   1.00  1.000000   \n",
       "1             4    0.009369  0.57735   1   2   0   1   1.00  1.000000   \n",
       "2             6    5.169246  0.00000   2   0   2   0   0.75  0.833333   \n",
       "3             8    0.010508  0.00000   2   0   2   0   0.75  0.833333   \n",
       "4            10    1.204724  0.00000   2   0   2   0   0.75  0.833333   \n",
       "5            12    0.442275  0.57735   1   2   0   1   1.00  1.000000   \n",
       "6            14    0.023575  0.57735   1   2   0   1   1.00  1.000000   \n",
       "7            16    0.334697  0.00000   0   2   0   2   0.50  0.750000   \n",
       "8            18    0.190690  0.57735   1   2   0   1   0.50  0.750000   \n",
       "9            20    0.040302  0.00000   1   1   1   1   0.50  0.750000   \n",
       "10           22    0.006139 -0.57735   1   0   2   1   0.50  0.750000   \n",
       "11           24    0.007933  0.00000   2   0   2   0   0.50  0.750000   \n",
       "12           26    0.007345  0.00000   2   0   2   0   0.50  0.750000   \n",
       "13           28    0.004653  0.00000   2   0   2   0   0.50  0.750000   \n",
       "14           30    0.002713  0.00000   2   0   2   0   0.50  0.750000   \n",
       "15           32    0.002490  0.00000   2   0   2   0   0.50  0.750000   \n",
       "16           34    0.002695  0.00000   2   0   2   0   0.50  0.750000   \n",
       "17           36    0.003020  0.00000   2   0   2   0   0.50  0.750000   \n",
       "18           38    0.001935  0.00000   2   0   2   0   0.50  0.750000   \n",
       "19           40    0.002050  0.00000   2   0   2   0   0.50  0.750000   \n",
       "\n",
       "          f1  eval_loss  \n",
       "0   0.666667   1.899221  \n",
       "1   0.666667   0.950853  \n",
       "2   0.666667   2.163051  \n",
       "3   0.666667   1.709921  \n",
       "4   0.666667   0.954630  \n",
       "5   0.666667   0.479861  \n",
       "6   0.666667   0.892600  \n",
       "7   0.000000   1.088068  \n",
       "8   0.666667   0.829921  \n",
       "9   0.500000   0.728410  \n",
       "10  0.400000   1.245182  \n",
       "11  0.666667   1.626071  \n",
       "12  0.666667   1.892123  \n",
       "13  0.666667   2.070496  \n",
       "14  0.666667   2.188522  \n",
       "15  0.666667   2.262165  \n",
       "16  0.666667   2.302353  \n",
       "17  0.666667   2.319695  \n",
       "18  0.666667   2.325625  \n",
       "19  0.666667   2.326934  "
      ]
     },
     "execution_count": 28,
     "metadata": {},
     "output_type": "execute_result"
    }
   ],
   "source": [
    "progress"
   ]
  },
  {
   "cell_type": "code",
   "execution_count": 29,
   "metadata": {},
   "outputs": [
    {
     "data": {
      "image/png": "[encoded data removed]",
      "text/plain": [
       "<Figure size 432x288 with 1 Axes>"
      ]
     },
     "metadata": {
      "needs_background": "light"
     },
     "output_type": "display_data"
    },
    {
     "data": {
      "image/png": "[encoded data removed]",
      "text/plain": [
       "<Figure size 432x288 with 1 Axes>"
      ]
     },
     "metadata": {
      "needs_background": "light"
     },
     "output_type": "display_data"
    }
   ],
   "source": [
    "plt.figure(1)\n",
    "plt.plot(progress['train_loss'], '.-', label='Train loss')\n",
    "plt.plot(progress['eval_loss'], '.-', label='Eval loss')\n",
    "plt.yscale('log')\n",
    "plt.xlabel('Number of epochs')\n",
    "plt.legend()\n",
    "plt.grid()\n",
    "\n",
    "plt.figure(2)\n",
    "plt.title('F1 score on the training set')\n",
    "plt.plot(progress['f1'], '.-')\n",
    "plt.xlabel('Number of epochs')\n",
    "plt.grid()"
   ]
  },
  {
   "cell_type": "code",
   "execution_count": 30,
   "metadata": {},
   "outputs": [
    {
     "data": {
      "application/vnd.jupyter.widget-view+json": {
       "model_id": "f4d75105275747649287b92c9b9b7690",
       "version_major": 2,
       "version_minor": 0
      },
      "text/plain": [
       "  0%|          | 0/4 [00:00<?, ?it/s]"
      ]
     },
     "metadata": {},
     "output_type": "display_data"
    },
    {
     "data": {
      "application/vnd.jupyter.widget-view+json": {
       "model_id": "20146f211bd34340908b83f811c909ec",
       "version_major": 2,
       "version_minor": 0
      },
      "text/plain": [
       "Running Evaluation:   0%|          | 0/1 [00:00<?, ?it/s]"
      ]
     },
     "metadata": {},
     "output_type": "display_data"
    },
    {
     "name": "stderr",
     "output_type": "stream",
     "text": [
      "/Users/hubzer/opt/anaconda3/lib/python3.8/site-packages/sklearn/metrics/_classification.py:846: RuntimeWarning: invalid value encountered in double_scalars\n",
      "  mcc = cov_ytyp / np.sqrt(cov_ytyt * cov_ypyp)\n"
     ]
    },
    {
     "data": {
      "text/plain": [
       "({'mcc': 0.0,\n",
       "  'tp': 2,\n",
       "  'tn': 0,\n",
       "  'fp': 2,\n",
       "  'fn': 0,\n",
       "  'auroc': 0.5,\n",
       "  'auprc': 0.75,\n",
       "  'f1': 0.6666666666666666,\n",
       "  'eval_loss': 2.3269338607788086},\n",
       " array([[-0.88530719,  1.02169335],\n",
       "        [-3.03087258,  3.41331792],\n",
       "        [-1.417243  ,  1.58066499],\n",
       "        [-2.88737059,  3.2315042 ]]),\n",
       " [{'guid': 2, 'text_a': '\" The Pakistani police came to our house and told us to leave , \" Hoji Karim , an Afghan refugee tells of his ordeal . \" They threw all our things onto the street . \"', 'text_b': None, 'label': False},\n",
       "  {'guid': 3, 'text_a': 'When Marie O\\'Donoghue went looking for a special school for her intellectually disabled son Paul in the 1990s , the Department of Education \\'s response was blunt : he was , it said , \" ineducable \" .', 'text_b': None, 'label': False}])"
      ]
     },
     "execution_count": 30,
     "metadata": {},
     "output_type": "execute_result"
    }
   ],
   "source": [
    "# Get f1 score on the test set:\n",
    "result = task1_model.eval_model(mini_test_df, f1=f1_score)\n",
    "result"
   ]
  },
  {
   "cell_type": "code",
   "execution_count": 31,
   "metadata": {},
   "outputs": [
    {
     "data": {
      "text/plain": [
       "(0.6666666666666666, 0.5, 1.0)"
      ]
     },
     "execution_count": 31,
     "metadata": {},
     "output_type": "execute_result"
    }
   ],
   "source": [
    "# Check f1 score is coherent with the number of true positive, true neg, false pos, fn\n",
    "precision = result[0]['tp'] / (result[0]['tp'] + result[0]['fp'])\n",
    "recall = result[0]['tp'] / (result[0]['tp'] + result[0]['tn'])\n",
    "f1_check = 2 * precision * recall / (precision + recall)\n",
    "f1_check, precision, recall"
   ]
  },
  {
   "cell_type": "code",
   "execution_count": null,
   "metadata": {},
   "outputs": [],
   "source": []
  },
  {
   "cell_type": "code",
   "execution_count": null,
   "metadata": {},
   "outputs": [],
   "source": []
  },
  {
   "cell_type": "code",
   "execution_count": null,
   "metadata": {},
   "outputs": [],
   "source": []
  }
 ],
 "metadata": {
  "kernelspec": {
   "display_name": "Python 3",
   "language": "python",
   "name": "python3"
  },
  "language_info": {
   "codemirror_mode": {
    "name": "ipython",
    "version": 3
   },
   "file_extension": ".py",
   "mimetype": "text/x-python",
   "name": "python",
   "nbconvert_exporter": "python",
   "pygments_lexer": "ipython3",
   "version": "3.8.5"
  }
 },
 "nbformat": 4,
 "nbformat_minor": 4
}
